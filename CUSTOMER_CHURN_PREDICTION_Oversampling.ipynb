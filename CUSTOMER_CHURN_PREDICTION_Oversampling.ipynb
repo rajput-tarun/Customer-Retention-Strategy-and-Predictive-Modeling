{
  "metadata": {
    "kernelspec": {
      "language": "python",
      "display_name": "Python 3",
      "name": "python3"
    },
    "language_info": {
      "pygments_lexer": "ipython3",
      "nbconvert_exporter": "python",
      "version": "3.6.4",
      "file_extension": ".py",
      "codemirror_mode": {
        "name": "ipython",
        "version": 3
      },
      "name": "python",
      "mimetype": "text/x-python"
    },
    "colab": {
      "name": "CUSTOMER CHURN PREDICTION 📈",
      "provenance": []
    }
  },
  "nbformat_minor": 0,
  "nbformat": 4,
  "cells": [
    {
      "source": [
        "\n",
        "# IMPORTANT: RUN THIS CELL IN ORDER TO IMPORT YOUR KAGGLE DATA SOURCES\n",
        "# TO THE CORRECT LOCATION (/kaggle/input) IN YOUR NOTEBOOK,\n",
        "# THEN FEEL FREE TO DELETE THIS CELL.\n",
        "# NOTE: THIS NOTEBOOK ENVIRONMENT DIFFERS FROM KAGGLE'S PYTHON\n",
        "# ENVIRONMENT SO THERE MAY BE MISSING LIBRARIES USED BY YOUR\n",
        "# NOTEBOOK.\n",
        "\n",
        "import os\n",
        "import sys\n",
        "from tempfile import NamedTemporaryFile\n",
        "from urllib.request import urlopen\n",
        "from urllib.parse import unquote, urlparse\n",
        "from urllib.error import HTTPError\n",
        "from zipfile import ZipFile\n",
        "import tarfile\n",
        "import shutil\n",
        "\n",
        "CHUNK_SIZE = 40960\n",
        "DATA_SOURCE_MAPPING = 'telco-customer-churn:https%3A%2F%2Fstorage.googleapis.com%2Fkaggle-data-sets%2F13996%2F18858%2Fbundle%2Farchive.zip%3FX-Goog-Algorithm%3DGOOG4-RSA-SHA256%26X-Goog-Credential%3Dgcp-kaggle-com%2540kaggle-161607.iam.gserviceaccount.com%252F20240901%252Fauto%252Fstorage%252Fgoog4_request%26X-Goog-Date%3D20240901T205119Z%26X-Goog-Expires%3D259200%26X-Goog-SignedHeaders%3Dhost%26X-Goog-Signature%3D8e1edba570bd8aaa0722530be2852812342c94c0ce01b60cd2c3e85e66ad9cb029cf271fb482845f9f85564e7ed06391f3dd4813f266beda5401ea7111d1fddb0efc28c3aeec404da43c8c436cfd59108e47aeeb6d424a45b5e1e7c540e4359fd3d7fc26d1d974a9f29e114b0af3c753c53c364039681beb0c56bde9aa8f55198e25c8dc34d977609ef9e555190b44d88fc516e531e7bb0c771f1ff3fc721593a68c24a5880365ff3350f560fe6864ff863a6e0e651042e6922d7b8c2a03c0c98ae0b512ca793a5bf42126717d5c60761fb9b9c9e1899331ea5557f45ad9367146bbfdc25fd57de172c2aa1c12e824292b813c9f4c24a61a5232fd68237d6df7'\n",
        "\n",
        "KAGGLE_INPUT_PATH='/kaggle/input'\n",
        "KAGGLE_WORKING_PATH='/kaggle/working'\n",
        "KAGGLE_SYMLINK='kaggle'\n",
        "\n",
        "!umount /kaggle/input/ 2> /dev/null\n",
        "shutil.rmtree('/kaggle/input', ignore_errors=True)\n",
        "os.makedirs(KAGGLE_INPUT_PATH, 0o777, exist_ok=True)\n",
        "os.makedirs(KAGGLE_WORKING_PATH, 0o777, exist_ok=True)\n",
        "\n",
        "try:\n",
        "  os.symlink(KAGGLE_INPUT_PATH, os.path.join(\"..\", 'input'), target_is_directory=True)\n",
        "except FileExistsError:\n",
        "  pass\n",
        "try:\n",
        "  os.symlink(KAGGLE_WORKING_PATH, os.path.join(\"..\", 'working'), target_is_directory=True)\n",
        "except FileExistsError:\n",
        "  pass\n",
        "\n",
        "for data_source_mapping in DATA_SOURCE_MAPPING.split(','):\n",
        "    directory, download_url_encoded = data_source_mapping.split(':')\n",
        "    download_url = unquote(download_url_encoded)\n",
        "    filename = urlparse(download_url).path\n",
        "    destination_path = os.path.join(KAGGLE_INPUT_PATH, directory)\n",
        "    try:\n",
        "        with urlopen(download_url) as fileres, NamedTemporaryFile() as tfile:\n",
        "            total_length = fileres.headers['content-length']\n",
        "            print(f'Downloading {directory}, {total_length} bytes compressed')\n",
        "            dl = 0\n",
        "            data = fileres.read(CHUNK_SIZE)\n",
        "            while len(data) > 0:\n",
        "                dl += len(data)\n",
        "                tfile.write(data)\n",
        "                done = int(50 * dl / int(total_length))\n",
        "                sys.stdout.write(f\"\\r[{'=' * done}{' ' * (50-done)}] {dl} bytes downloaded\")\n",
        "                sys.stdout.flush()\n",
        "                data = fileres.read(CHUNK_SIZE)\n",
        "            if filename.endswith('.zip'):\n",
        "              with ZipFile(tfile) as zfile:\n",
        "                zfile.extractall(destination_path)\n",
        "            else:\n",
        "              with tarfile.open(tfile.name) as tarfile:\n",
        "                tarfile.extractall(destination_path)\n",
        "            print(f'\\nDownloaded and uncompressed: {directory}')\n",
        "    except HTTPError as e:\n",
        "        print(f'Failed to load (likely expired) {download_url} to path {destination_path}')\n",
        "        continue\n",
        "    except OSError as e:\n",
        "        print(f'Failed to load {download_url} to path {destination_path}')\n",
        "        continue\n",
        "\n",
        "print('Data source import complete.')\n"
      ],
      "metadata": {
        "id": "TCO9GNL6W1mr"
      },
      "cell_type": "code",
      "outputs": [],
      "execution_count": null
    },
    {
      "cell_type": "markdown",
      "source": [
        "**<center> <span style=\"color:#0F52BA;font-family:serif; font-size:34px;\"> TELECOM CUSTOMER CHURN PREDICTION 📈</span> </center>**"
      ],
      "metadata": {
        "id": "S5Hz2ZMNW1mv"
      }
    },
    {
      "cell_type": "markdown",
      "source": [
        "<style>\n",
        "img\n",
        "{\n",
        "    display:block;\n",
        "    float:none;\n",
        "    margin-left:auto;\n",
        "    margin-right:auto;\n",
        "    width:80%;\n",
        "}\n",
        "</style>"
      ],
      "metadata": {
        "id": "rKAW0MB2W1mw"
      }
    },
    {
      "cell_type": "markdown",
      "source": [
        "<center><span style=\"font-family:Palatino; font-size:22px;\"><i> Did you know that attracting a new customer costs <span style=\"color:#DC143C;\">five times</span> as much as keeping an existing one?</i></span> </center>"
      ],
      "metadata": {
        "id": "JdEq8YIJW1mw"
      }
    },
    {
      "cell_type": "markdown",
      "source": [
        "![churn 1.png](attachment:7a47ebdd-9f53-4bf0-bc99-b56b8050a874.png)"
      ],
      "metadata": {
        "id": "27EyntpRW1mx"
      }
    },
    {
      "cell_type": "markdown",
      "source": [
        "# <span style=\"font-family:serif; font-size:28px;\"> Content</span>\n",
        "\n",
        "1. [Introduction](#1)\n",
        "    * [What is Customer Churn?](#2)\n",
        "    * [How can customer churn be reducded?](#3)\n",
        "    * [Objectives](#4)\n",
        "2. [Loading libraries and data](#5)\n",
        "3. [Undertanding the data](#6)\n",
        "4. [Visualize missing values](#7)\n",
        "5. [Data Manipulation](#8)\n",
        "6. [Data Visualization](#9)\n",
        "7. [Data Preprocessing](#10)\n",
        "   * [Standardizing numeric attributes](#111)\n",
        "8. [Machine Learning Model Evaluations and Predictions](#11)\n",
        "   * [KNN](#101)\n",
        "   * [SVC](#102)\n",
        "   * [Random Forest](#103)\n",
        "   * [Logistic Regression](#104)\n",
        "   * [Decision Tree Classifier](#105)\n",
        "   * [AdaBoost Classifier](#106)\n",
        "   * [Gradient Boosting Classifier](#107)\n",
        "   * [Voting Classifier](#108)\n",
        "\n"
      ],
      "metadata": {
        "execution": {
          "iopub.status.busy": "2021-06-15T12:05:58.425675Z",
          "iopub.execute_input": "2021-06-15T12:05:58.426483Z",
          "iopub.status.idle": "2021-06-15T12:05:58.442351Z",
          "shell.execute_reply.started": "2021-06-15T12:05:58.42635Z",
          "shell.execute_reply": "2021-06-15T12:05:58.440063Z"
        },
        "id": "1W2hYjMVW1mx"
      }
    },
    {
      "cell_type": "markdown",
      "source": [
        "<a id = \"1\" ></a>\n",
        "# <span style=\"font-family:serif; font-size:28px;\"> 1. Introduction</span>\n",
        "<a id = \"introduction\" ></a>"
      ],
      "metadata": {
        "id": "yYldv79pW1mx"
      }
    },
    {
      "cell_type": "markdown",
      "source": [
        "<a id = \"2\" ></a>\n",
        "#### <b>What is Customer Churn?</b>\n",
        "<span style=\"font-size:16px;\">  Customer churn is defined as when customers or subscribers discontinue doing business with a firm or service. </span>\n",
        "\n",
        "<span style=\"font-size:16px;\"> Customers in the telecom industry can choose from a variety of service providers and actively switch from one to the next. The telecommunications business has an annual churn rate of 15-25 percent in this highly competitive market.</span>\n",
        "\n",
        "<span style=\"font-size:16px;\"> Individualized customer retention is tough because most firms have a large number of customers and can't afford to devote much time to each of them. The costs would be too great, outweighing the additional revenue. However, if a corporation could forecast which customers are likely to leave ahead of time, it could focus customer retention efforts only on these \"high risk\" clients. The ultimate goal is to expand its coverage area and retrieve more\n",
        "customers loyalty. The core to succeed in this market lies in the customer itself.\n",
        "</span>\n",
        "\n",
        "<span style=\"font-size:16px;\"> Customer churn is a critical metric because it is much less expensive to retain existing customers than it is to acquire new customers.</span>\n",
        "\n",
        "<a id=\"churn\"></a>\n",
        "<a id = \"3\" ></a>\n",
        "\n",
        "<span style=\"font-size:16px;\"><b>To reduce customer churn, telecom companies need to predict which customers are at high risk of churn.</b></span>\n",
        "\n",
        "<span style=\"font-size:16px;\"> To detect early signs of potential churn, one must first develop a holistic view of the customers and their interactions across numerous channels, including store/branch visits, product purchase histories, customer service calls, Web-based transactions, and social media interactions, to mention a few. </span>\n",
        "\n",
        "<span style=\"font-size:16px;\">As a result, by addressing churn, these businesses may not only preserve their market position, but also grow and thrive. More customers they have in their network, the lower the cost of initiation and the larger the profit. As a result, the company's key focus for success is reducing client attrition and implementing effective retention strategy. </span>\n",
        "<a id=\"reduce\"></a>\n",
        "\n",
        "<a id = \"4\" ></a>\n",
        "#### <b> Objectives</b>\n",
        "I will explore the data and try to answer some questions like:\n",
        "* What's the % of Churn Customers and customers that keep in with the active services?\n",
        "* Is there any patterns in Churn Customers based on the gender?\n",
        "* Is there any patterns/preference in Churn Customers based on the type of service provided?\n",
        "* What's the most profitable service types?\n",
        "* Which features and services are most profitable?\n",
        "* Many more questions that will arise during the analysis\n",
        "<a id=\"objective\"></a>"
      ],
      "metadata": {
        "id": "V3VSTcFDW1my"
      }
    },
    {
      "cell_type": "markdown",
      "source": [
        "___"
      ],
      "metadata": {
        "id": "yOFbhB69W1mz"
      }
    },
    {
      "cell_type": "markdown",
      "source": [
        "<a id = \"5\" ></a>\n",
        "# <span style=\"font-family:serif; font-size:28px;\"> 2. Loading libraries and data</span>\n",
        "<a id=\"loading\"></a>"
      ],
      "metadata": {
        "id": "1CJTZ02sW1mz"
      }
    },
    {
      "cell_type": "code",
      "source": [
        "import pandas as pd\n",
        "import numpy as np\n",
        "import missingno as msno\n",
        "import matplotlib.pyplot as plt\n",
        "import seaborn as sns\n",
        "import plotly.express as px\n",
        "import plotly.graph_objects as go\n",
        "from plotly.subplots import make_subplots\n",
        "import warnings\n",
        "warnings.filterwarnings('ignore')"
      ],
      "metadata": {
        "_uuid": "8f2839f25d086af736a60e9eeb907d3b93b6e0e5",
        "_cell_guid": "b1076dfc-b9ad-4769-8c92-a6c4dae69d19",
        "execution": {
          "iopub.status.busy": "2021-06-29T08:55:19.912773Z",
          "iopub.execute_input": "2021-06-29T08:55:19.91328Z",
          "iopub.status.idle": "2021-06-29T08:55:22.282914Z",
          "shell.execute_reply.started": "2021-06-29T08:55:19.913161Z",
          "shell.execute_reply": "2021-06-29T08:55:22.282094Z"
        },
        "trusted": true,
        "id": "rWSJ-6sNW1m0"
      },
      "execution_count": null,
      "outputs": []
    },
    {
      "cell_type": "code",
      "source": [
        "from sklearn.preprocessing import StandardScaler\n",
        "from sklearn.preprocessing import LabelEncoder\n",
        "\n",
        "from sklearn.tree import DecisionTreeClassifier\n",
        "from sklearn.ensemble import RandomForestClassifier\n",
        "from sklearn.naive_bayes import GaussianNB\n",
        "from sklearn.neighbors import KNeighborsClassifier\n",
        "from sklearn.svm import SVC\n",
        "from sklearn.neural_network import MLPClassifier\n",
        "from sklearn.ensemble import AdaBoostClassifier\n",
        "from sklearn.ensemble import GradientBoostingClassifier\n",
        "from sklearn.ensemble import ExtraTreesClassifier\n",
        "from sklearn.linear_model import LogisticRegression\n",
        "from sklearn.model_selection import train_test_split\n",
        "from sklearn.metrics import accuracy_score\n",
        "from xgboost import XGBClassifier\n",
        "from catboost import CatBoostClassifier\n",
        "from sklearn import metrics\n",
        "from sklearn.metrics import roc_curve\n",
        "from sklearn.metrics import recall_score, confusion_matrix, precision_score, f1_score, accuracy_score, classification_report"
      ],
      "metadata": {
        "execution": {
          "iopub.status.busy": "2021-06-29T08:55:22.284078Z",
          "iopub.execute_input": "2021-06-29T08:55:22.284462Z",
          "iopub.status.idle": "2021-06-29T08:55:22.963803Z",
          "shell.execute_reply.started": "2021-06-29T08:55:22.284433Z",
          "shell.execute_reply": "2021-06-29T08:55:22.963064Z"
        },
        "trusted": true,
        "id": "B-DnGQ30W1m0"
      },
      "execution_count": null,
      "outputs": []
    },
    {
      "cell_type": "code",
      "source": [
        "#loading data\n",
        "df = pd.read_csv('../input/telco-customer-churn/WA_Fn-UseC_-Telco-Customer-Churn.csv')"
      ],
      "metadata": {
        "execution": {
          "iopub.status.busy": "2021-06-29T08:55:22.965284Z",
          "iopub.execute_input": "2021-06-29T08:55:22.965683Z",
          "iopub.status.idle": "2021-06-29T08:55:23.023292Z",
          "shell.execute_reply.started": "2021-06-29T08:55:22.965654Z",
          "shell.execute_reply": "2021-06-29T08:55:23.022227Z"
        },
        "trusted": true,
        "id": "aG2VXLRJW1m0"
      },
      "execution_count": null,
      "outputs": []
    },
    {
      "cell_type": "markdown",
      "source": [
        "___"
      ],
      "metadata": {
        "id": "qCv42PazW1m1"
      }
    },
    {
      "cell_type": "markdown",
      "source": [
        "<a id = \"6\" ></a>\n",
        "# <span style=\"font-family:serif; font-size:28px;\"> 3. Undertanding the data</span>\n",
        "<a id = \"Undertanding the data\" ></a>"
      ],
      "metadata": {
        "id": "MlqKzLBIW1m1"
      }
    },
    {
      "cell_type": "markdown",
      "source": [
        "Each row represents a customer, each column contains customer’s attributes described on the column Metadata."
      ],
      "metadata": {
        "execution": {
          "iopub.status.busy": "2021-06-15T05:44:20.072025Z",
          "iopub.execute_input": "2021-06-15T05:44:20.072466Z",
          "iopub.status.idle": "2021-06-15T05:44:20.084216Z",
          "shell.execute_reply.started": "2021-06-15T05:44:20.072376Z",
          "shell.execute_reply": "2021-06-15T05:44:20.083141Z"
        },
        "id": "Bz0lCLp9W1m1"
      }
    },
    {
      "cell_type": "code",
      "source": [
        "df.head()"
      ],
      "metadata": {
        "execution": {
          "iopub.status.busy": "2021-06-29T08:55:23.024819Z",
          "iopub.execute_input": "2021-06-29T08:55:23.025123Z",
          "iopub.status.idle": "2021-06-29T08:55:23.071164Z",
          "shell.execute_reply.started": "2021-06-29T08:55:23.025094Z",
          "shell.execute_reply": "2021-06-29T08:55:23.070437Z"
        },
        "trusted": true,
        "id": "Uh_YAFw6W1m1"
      },
      "execution_count": null,
      "outputs": []
    },
    {
      "cell_type": "markdown",
      "source": [
        "**The data set includes information about:**\n",
        "* **Customers who left within the last month** – the column is called Churn\n",
        "\n",
        "* **Services that each customer has signed up for** – phone, multiple lines, internet, online security, online backup, device protection, tech support, and streaming TV and movies\n",
        "\n",
        "* **Customer account information** - how long they’ve been a customer, contract, payment method, paperless billing, monthly charges, and total charges\n",
        "\n",
        "* **Demographic info about customers** – gender, age range, and if they have partners and dependents"
      ],
      "metadata": {
        "id": "7vwYGZNgW1m1"
      }
    },
    {
      "cell_type": "code",
      "source": [
        "df.shape"
      ],
      "metadata": {
        "execution": {
          "iopub.status.busy": "2021-06-29T08:55:23.07234Z",
          "iopub.execute_input": "2021-06-29T08:55:23.072815Z",
          "iopub.status.idle": "2021-06-29T08:55:23.077367Z",
          "shell.execute_reply.started": "2021-06-29T08:55:23.072763Z",
          "shell.execute_reply": "2021-06-29T08:55:23.076705Z"
        },
        "trusted": true,
        "id": "cqHxqAtPW1m2"
      },
      "execution_count": null,
      "outputs": []
    },
    {
      "cell_type": "code",
      "source": [
        "df.info()"
      ],
      "metadata": {
        "execution": {
          "iopub.status.busy": "2021-06-29T08:55:23.078451Z",
          "iopub.execute_input": "2021-06-29T08:55:23.078888Z",
          "iopub.status.idle": "2021-06-29T08:55:23.121703Z",
          "shell.execute_reply.started": "2021-06-29T08:55:23.078824Z",
          "shell.execute_reply": "2021-06-29T08:55:23.120726Z"
        },
        "trusted": true,
        "id": "g9ZYPSXZW1m2"
      },
      "execution_count": null,
      "outputs": []
    },
    {
      "cell_type": "code",
      "source": [
        "df.columns.values"
      ],
      "metadata": {
        "execution": {
          "iopub.status.busy": "2021-06-29T08:55:23.122802Z",
          "iopub.execute_input": "2021-06-29T08:55:23.123249Z",
          "iopub.status.idle": "2021-06-29T08:55:23.128892Z",
          "shell.execute_reply.started": "2021-06-29T08:55:23.123211Z",
          "shell.execute_reply": "2021-06-29T08:55:23.127837Z"
        },
        "trusted": true,
        "id": "S48ObQXMW1m2"
      },
      "execution_count": null,
      "outputs": []
    },
    {
      "cell_type": "code",
      "source": [
        "df.dtypes"
      ],
      "metadata": {
        "execution": {
          "iopub.status.busy": "2021-06-29T08:55:23.130304Z",
          "iopub.execute_input": "2021-06-29T08:55:23.130729Z",
          "iopub.status.idle": "2021-06-29T08:55:23.144964Z",
          "shell.execute_reply.started": "2021-06-29T08:55:23.130697Z",
          "shell.execute_reply": "2021-06-29T08:55:23.143831Z"
        },
        "trusted": true,
        "id": "1xaU4q4BW1m2"
      },
      "execution_count": null,
      "outputs": []
    },
    {
      "cell_type": "markdown",
      "source": [
        "\n",
        "* The target the we will use to guide the exploration is **Churn**"
      ],
      "metadata": {
        "execution": {
          "iopub.status.busy": "2021-06-15T05:57:23.424964Z",
          "iopub.execute_input": "2021-06-15T05:57:23.426034Z",
          "iopub.status.idle": "2021-06-15T05:57:23.433922Z",
          "shell.execute_reply.started": "2021-06-15T05:57:23.42599Z",
          "shell.execute_reply": "2021-06-15T05:57:23.432093Z"
        },
        "id": "SwhpNBrIW1m2"
      }
    },
    {
      "cell_type": "markdown",
      "source": [
        "***"
      ],
      "metadata": {
        "id": "ua8sfzK1W1m2"
      }
    },
    {
      "cell_type": "markdown",
      "source": [
        "<a id = \"7\" ></a>\n",
        "# <span style=\"font-family:serif; font-size:28px;\"> 4. Visualize missing values </span>\n",
        "<a id = \"missingvalue\" ></a>"
      ],
      "metadata": {
        "id": "DDBzT9ZMW1m2"
      }
    },
    {
      "cell_type": "code",
      "source": [
        "# Visualize missing values as a matrix\n",
        "msno.matrix(df);"
      ],
      "metadata": {
        "execution": {
          "iopub.status.busy": "2021-06-29T08:55:23.148026Z",
          "iopub.execute_input": "2021-06-29T08:55:23.148365Z",
          "iopub.status.idle": "2021-06-29T08:55:23.761728Z",
          "shell.execute_reply.started": "2021-06-29T08:55:23.148328Z",
          "shell.execute_reply": "2021-06-29T08:55:23.760764Z"
        },
        "trusted": true,
        "id": "Ow9nVsQZW1m2"
      },
      "execution_count": null,
      "outputs": []
    },
    {
      "cell_type": "markdown",
      "source": [
        "> Using this matrix we can very quickly find the pattern of missingness in the dataset.\n",
        "* From the above visualisation we can observe that it has no peculiar pattern that stands out. In fact there is no missing data."
      ],
      "metadata": {
        "id": "JpA_zpUVW1m3"
      }
    },
    {
      "cell_type": "markdown",
      "source": [
        "***"
      ],
      "metadata": {
        "id": "eyX9KahUW1m3"
      }
    },
    {
      "cell_type": "markdown",
      "source": [
        "<a id = \"8\" ></a>\n",
        "# <span style=\"font-family:serif; font-size:28px;\"> 5. Data Manipulation </span>\n",
        "<a id = \"8\" ></a>"
      ],
      "metadata": {
        "id": "GtZCmiahW1m3"
      }
    },
    {
      "cell_type": "code",
      "source": [
        "df = df.drop(['customerID'], axis = 1)\n",
        "df.head()"
      ],
      "metadata": {
        "execution": {
          "iopub.status.busy": "2021-06-29T08:55:23.76348Z",
          "iopub.execute_input": "2021-06-29T08:55:23.763764Z",
          "iopub.status.idle": "2021-06-29T08:55:23.790299Z",
          "shell.execute_reply.started": "2021-06-29T08:55:23.763736Z",
          "shell.execute_reply": "2021-06-29T08:55:23.789274Z"
        },
        "trusted": true,
        "id": "uFOsbL6QW1m3"
      },
      "execution_count": null,
      "outputs": []
    },
    {
      "cell_type": "markdown",
      "source": [
        "* On deep analysis, we can find some indirect missingness in our data (which can be in form of blankspaces). Let's see that!"
      ],
      "metadata": {
        "id": "rsGJUbojW1m3"
      }
    },
    {
      "cell_type": "code",
      "source": [
        "df['TotalCharges'] = pd.to_numeric(df.TotalCharges, errors='coerce')\n",
        "df.isnull().sum()"
      ],
      "metadata": {
        "execution": {
          "iopub.status.busy": "2021-06-29T08:55:23.791639Z",
          "iopub.execute_input": "2021-06-29T08:55:23.792Z",
          "iopub.status.idle": "2021-06-29T08:55:23.822887Z",
          "shell.execute_reply.started": "2021-06-29T08:55:23.791927Z",
          "shell.execute_reply": "2021-06-29T08:55:23.822083Z"
        },
        "trusted": true,
        "id": "EFTxRqyuW1m4"
      },
      "execution_count": null,
      "outputs": []
    },
    {
      "cell_type": "markdown",
      "source": [
        "* Here we see that the TotalCharges has 11 missing values. Let's check this data."
      ],
      "metadata": {
        "id": "PayQ5jG2W1m4"
      }
    },
    {
      "cell_type": "code",
      "source": [
        "df[np.isnan(df['TotalCharges'])]"
      ],
      "metadata": {
        "execution": {
          "iopub.status.busy": "2021-06-29T08:55:23.82422Z",
          "iopub.execute_input": "2021-06-29T08:55:23.824492Z",
          "iopub.status.idle": "2021-06-29T08:55:23.854572Z",
          "shell.execute_reply.started": "2021-06-29T08:55:23.824465Z",
          "shell.execute_reply": "2021-06-29T08:55:23.853925Z"
        },
        "trusted": true,
        "id": "fvPgUsuEW1m4"
      },
      "execution_count": null,
      "outputs": []
    },
    {
      "cell_type": "markdown",
      "source": [
        "* It can also be noted that the Tenure column is 0 for these entries even though the MonthlyCharges column is not empty.\n",
        "\n",
        "Let's see if there are any other 0 values in the tenure column."
      ],
      "metadata": {
        "id": "nIM4cVGtW1m4"
      }
    },
    {
      "cell_type": "code",
      "source": [
        "df[df['tenure'] == 0].index"
      ],
      "metadata": {
        "execution": {
          "iopub.status.busy": "2021-06-29T08:55:23.855642Z",
          "iopub.execute_input": "2021-06-29T08:55:23.856147Z",
          "iopub.status.idle": "2021-06-29T08:55:23.877464Z",
          "shell.execute_reply.started": "2021-06-29T08:55:23.856114Z",
          "shell.execute_reply": "2021-06-29T08:55:23.87678Z"
        },
        "trusted": true,
        "id": "QAoxCT7VW1m4"
      },
      "execution_count": null,
      "outputs": []
    },
    {
      "cell_type": "markdown",
      "source": [
        "* There are no additional missing values in the Tenure column.\n",
        "\n",
        "Let's delete the rows with missing values in Tenure columns since there are only 11 rows and deleting them will not affect the data."
      ],
      "metadata": {
        "id": "2-2pDqKWW1m4"
      }
    },
    {
      "cell_type": "code",
      "source": [
        "df.drop(labels=df[df['tenure'] == 0].index, axis=0, inplace=True)\n",
        "df[df['tenure'] == 0].index"
      ],
      "metadata": {
        "execution": {
          "iopub.status.busy": "2021-06-29T08:55:23.878567Z",
          "iopub.execute_input": "2021-06-29T08:55:23.879013Z",
          "iopub.status.idle": "2021-06-29T08:55:23.8896Z",
          "shell.execute_reply.started": "2021-06-29T08:55:23.878972Z",
          "shell.execute_reply": "2021-06-29T08:55:23.88859Z"
        },
        "trusted": true,
        "id": "LCbl7S9yW1m4"
      },
      "execution_count": null,
      "outputs": []
    },
    {
      "cell_type": "markdown",
      "source": [
        "> To solve the problem of missing values in TotalCharges column, I decided to fill it with the mean of TotalCharges values."
      ],
      "metadata": {
        "id": "TcnndELrW1m4"
      }
    },
    {
      "cell_type": "code",
      "source": [
        "df.fillna(df[\"TotalCharges\"].mean())"
      ],
      "metadata": {
        "execution": {
          "iopub.status.busy": "2021-06-29T08:55:23.891131Z",
          "iopub.execute_input": "2021-06-29T08:55:23.891552Z",
          "iopub.status.idle": "2021-06-29T08:55:23.943367Z",
          "shell.execute_reply.started": "2021-06-29T08:55:23.891496Z",
          "shell.execute_reply": "2021-06-29T08:55:23.942385Z"
        },
        "trusted": true,
        "id": "8QpaiOduW1m8"
      },
      "execution_count": null,
      "outputs": []
    },
    {
      "cell_type": "code",
      "source": [
        "df.isnull().sum()"
      ],
      "metadata": {
        "execution": {
          "iopub.status.busy": "2021-06-29T08:55:23.944842Z",
          "iopub.execute_input": "2021-06-29T08:55:23.945261Z",
          "iopub.status.idle": "2021-06-29T08:55:23.965089Z",
          "shell.execute_reply.started": "2021-06-29T08:55:23.945218Z",
          "shell.execute_reply": "2021-06-29T08:55:23.964058Z"
        },
        "trusted": true,
        "id": "Z7Ba2it4W1m8"
      },
      "execution_count": null,
      "outputs": []
    },
    {
      "cell_type": "code",
      "source": [
        "df[\"SeniorCitizen\"]= df[\"SeniorCitizen\"].map({0: \"No\", 1: \"Yes\"})\n",
        "df.head()"
      ],
      "metadata": {
        "execution": {
          "iopub.status.busy": "2021-06-29T08:55:23.966274Z",
          "iopub.execute_input": "2021-06-29T08:55:23.96682Z",
          "iopub.status.idle": "2021-06-29T08:55:23.999271Z",
          "shell.execute_reply.started": "2021-06-29T08:55:23.966777Z",
          "shell.execute_reply": "2021-06-29T08:55:23.998239Z"
        },
        "trusted": true,
        "id": "SeEvfiPuW1m8"
      },
      "execution_count": null,
      "outputs": []
    },
    {
      "cell_type": "code",
      "source": [
        "df[\"InternetService\"].describe(include=['object', 'bool'])"
      ],
      "metadata": {
        "execution": {
          "iopub.status.busy": "2021-06-29T08:55:24.000567Z",
          "iopub.execute_input": "2021-06-29T08:55:24.00092Z",
          "iopub.status.idle": "2021-06-29T08:55:24.012825Z",
          "shell.execute_reply.started": "2021-06-29T08:55:24.000825Z",
          "shell.execute_reply": "2021-06-29T08:55:24.011941Z"
        },
        "trusted": true,
        "id": "SfLH-K8LW1m9"
      },
      "execution_count": null,
      "outputs": []
    },
    {
      "cell_type": "code",
      "source": [
        "numerical_cols = ['tenure', 'MonthlyCharges', 'TotalCharges']\n",
        "df[numerical_cols].describe()"
      ],
      "metadata": {
        "execution": {
          "iopub.status.busy": "2021-06-29T08:55:24.014193Z",
          "iopub.execute_input": "2021-06-29T08:55:24.014603Z",
          "iopub.status.idle": "2021-06-29T08:55:24.048744Z",
          "shell.execute_reply.started": "2021-06-29T08:55:24.014572Z",
          "shell.execute_reply": "2021-06-29T08:55:24.047693Z"
        },
        "trusted": true,
        "id": "hrI7GLFHW1m9"
      },
      "execution_count": null,
      "outputs": []
    },
    {
      "cell_type": "markdown",
      "source": [
        "___"
      ],
      "metadata": {
        "id": "cXBvOsuWW1m9"
      }
    },
    {
      "cell_type": "markdown",
      "source": [
        "<a id = \"9\" ></a>\n",
        "# <span style=\"font-family:serif; font-size:28px;\"> 6. Data Visualization </span>\n",
        "<a id = \"datavisualization\" ></a>"
      ],
      "metadata": {
        "id": "nA8otX41W1m9"
      }
    },
    {
      "cell_type": "code",
      "source": [
        "g_labels = ['Male', 'Female']\n",
        "c_labels = ['No', 'Yes']\n",
        "# Create subplots: use 'domain' type for Pie subplot\n",
        "fig = make_subplots(rows=1, cols=2, specs=[[{'type':'domain'}, {'type':'domain'}]])\n",
        "fig.add_trace(go.Pie(labels=g_labels, values=df['gender'].value_counts(), name=\"Gender\"),\n",
        "              1, 1)\n",
        "fig.add_trace(go.Pie(labels=c_labels, values=df['Churn'].value_counts(), name=\"Churn\"),\n",
        "              1, 2)\n",
        "\n",
        "# Use `hole` to create a donut-like pie chart\n",
        "fig.update_traces(hole=.4, hoverinfo=\"label+percent+name\", textfont_size=16)\n",
        "\n",
        "fig.update_layout(\n",
        "    title_text=\"Gender and Churn Distributions\",\n",
        "    # Add annotations in the center of the donut pies.\n",
        "    annotations=[dict(text='Gender', x=0.16, y=0.5, font_size=20, showarrow=False),\n",
        "                 dict(text='Churn', x=0.84, y=0.5, font_size=20, showarrow=False)])\n",
        "fig.show()"
      ],
      "metadata": {
        "_kg_hide-input": true,
        "execution": {
          "iopub.status.busy": "2021-06-29T08:55:24.050434Z",
          "iopub.execute_input": "2021-06-29T08:55:24.050877Z",
          "iopub.status.idle": "2021-06-29T08:55:24.332832Z",
          "shell.execute_reply.started": "2021-06-29T08:55:24.050806Z",
          "shell.execute_reply": "2021-06-29T08:55:24.331583Z"
        },
        "trusted": true,
        "id": "9CMwmbi9W1m9"
      },
      "execution_count": null,
      "outputs": []
    },
    {
      "cell_type": "markdown",
      "source": [
        "* 26.6 % of customers switched to another firm.\n",
        "* Customers are 49.5 % female and 50.5 % male."
      ],
      "metadata": {
        "id": "NG-nYz01W1m9"
      }
    },
    {
      "cell_type": "code",
      "source": [
        "df[\"Churn\"][df[\"Churn\"]==\"No\"].groupby(by=df[\"gender\"]).count()"
      ],
      "metadata": {
        "_kg_hide-input": true,
        "_kg_hide-output": true,
        "execution": {
          "iopub.status.busy": "2021-06-29T08:55:24.33446Z",
          "iopub.execute_input": "2021-06-29T08:55:24.334902Z",
          "iopub.status.idle": "2021-06-29T08:55:24.349432Z",
          "shell.execute_reply.started": "2021-06-29T08:55:24.334833Z",
          "shell.execute_reply": "2021-06-29T08:55:24.348468Z"
        },
        "trusted": true,
        "id": "76FEcx3TW1m_"
      },
      "execution_count": null,
      "outputs": []
    },
    {
      "cell_type": "code",
      "source": [
        "df[\"Churn\"][df[\"Churn\"]==\"Yes\"].groupby(by=df[\"gender\"]).count()"
      ],
      "metadata": {
        "_kg_hide-input": true,
        "_kg_hide-output": true,
        "execution": {
          "iopub.status.busy": "2021-06-29T08:55:24.35085Z",
          "iopub.execute_input": "2021-06-29T08:55:24.351537Z",
          "iopub.status.idle": "2021-06-29T08:55:24.364731Z",
          "shell.execute_reply.started": "2021-06-29T08:55:24.351494Z",
          "shell.execute_reply": "2021-06-29T08:55:24.363904Z"
        },
        "trusted": true,
        "id": "LmSAz4HLW1m_"
      },
      "execution_count": null,
      "outputs": []
    },
    {
      "cell_type": "code",
      "source": [
        "plt.figure(figsize=(6, 6))\n",
        "labels =[\"Churn: Yes\",\"Churn:No\"]\n",
        "values = [1869,5163]\n",
        "labels_gender = [\"F\",\"M\",\"F\",\"M\"]\n",
        "sizes_gender = [939,930 , 2544,2619]\n",
        "colors = ['#ff6666', '#66b3ff']\n",
        "colors_gender = ['#c2c2f0','#ffb3e6', '#c2c2f0','#ffb3e6']\n",
        "explode = (0.3,0.3)\n",
        "explode_gender = (0.1,0.1,0.1,0.1)\n",
        "textprops = {\"fontsize\":15}\n",
        "#Plot\n",
        "plt.pie(values, labels=labels,autopct='%1.1f%%',pctdistance=1.08, labeldistance=0.8,colors=colors, startangle=90,frame=True, explode=explode,radius=10, textprops =textprops, counterclock = True, )\n",
        "plt.pie(sizes_gender,labels=labels_gender,colors=colors_gender,startangle=90, explode=explode_gender,radius=7, textprops =textprops, counterclock = True, )\n",
        "#Draw circle\n",
        "centre_circle = plt.Circle((0,0),5,color='black', fc='white',linewidth=0)\n",
        "fig = plt.gcf()\n",
        "fig.gca().add_artist(centre_circle)\n",
        "\n",
        "plt.title('Churn Distribution w.r.t Gender: Male(M), Female(F)', fontsize=15, y=1.1)\n",
        "\n",
        "# show plot\n",
        "\n",
        "plt.axis('equal')\n",
        "plt.tight_layout()\n",
        "plt.show()"
      ],
      "metadata": {
        "_kg_hide-input": true,
        "execution": {
          "iopub.status.busy": "2021-06-29T08:55:24.366074Z",
          "iopub.execute_input": "2021-06-29T08:55:24.366715Z",
          "iopub.status.idle": "2021-06-29T08:55:24.588067Z",
          "shell.execute_reply.started": "2021-06-29T08:55:24.366672Z",
          "shell.execute_reply": "2021-06-29T08:55:24.587015Z"
        },
        "trusted": true,
        "id": "e7HQ60wcW1m_"
      },
      "execution_count": null,
      "outputs": []
    },
    {
      "cell_type": "markdown",
      "source": [
        "* There is negligible difference in customer percentage/ count who chnaged the service provider. Both genders behaved in similar fashion when it comes to migrating to another service provider/firm."
      ],
      "metadata": {
        "id": "4tdSv-C1W1m_"
      }
    },
    {
      "cell_type": "code",
      "source": [
        "fig = px.histogram(df, x=\"Churn\", color=\"Contract\", barmode=\"group\", title=\"<b>Customer contract distribution<b>\")\n",
        "fig.update_layout(width=700, height=500, bargap=0.1)\n",
        "fig.show()"
      ],
      "metadata": {
        "_kg_hide-input": true,
        "execution": {
          "iopub.status.busy": "2021-06-29T08:55:24.589393Z",
          "iopub.execute_input": "2021-06-29T08:55:24.589812Z",
          "iopub.status.idle": "2021-06-29T08:55:25.676055Z",
          "shell.execute_reply.started": "2021-06-29T08:55:24.589768Z",
          "shell.execute_reply": "2021-06-29T08:55:25.674906Z"
        },
        "trusted": true,
        "id": "Wf8DitffW1m_"
      },
      "execution_count": null,
      "outputs": []
    },
    {
      "cell_type": "markdown",
      "source": [
        "* About 75% of customer with Month-to-Month Contract opted to move out as compared to 13% of customrs with One Year Contract and 3% with Two Year Contract"
      ],
      "metadata": {
        "id": "wan83rzPW1nA"
      }
    },
    {
      "cell_type": "code",
      "source": [
        "labels = df['PaymentMethod'].unique()\n",
        "values = df['PaymentMethod'].value_counts()\n",
        "\n",
        "fig = go.Figure(data=[go.Pie(labels=labels, values=values, hole=.3)])\n",
        "fig.update_layout(title_text=\"<b>Payment Method Distribution</b>\")\n",
        "fig.show()"
      ],
      "metadata": {
        "_kg_hide-input": true,
        "execution": {
          "iopub.status.busy": "2021-06-29T08:55:25.67731Z",
          "iopub.execute_input": "2021-06-29T08:55:25.677623Z",
          "iopub.status.idle": "2021-06-29T08:55:25.693794Z",
          "shell.execute_reply.started": "2021-06-29T08:55:25.677594Z",
          "shell.execute_reply": "2021-06-29T08:55:25.692791Z"
        },
        "trusted": true,
        "id": "c3y1LeMWW1nA"
      },
      "execution_count": null,
      "outputs": []
    },
    {
      "cell_type": "code",
      "source": [
        "fig = px.histogram(df, x=\"Churn\", color=\"PaymentMethod\", title=\"<b>Customer Payment Method distribution w.r.t. Churn</b>\")\n",
        "fig.update_layout(width=700, height=500, bargap=0.1)\n",
        "fig.show()"
      ],
      "metadata": {
        "_kg_hide-input": true,
        "execution": {
          "iopub.status.busy": "2021-06-29T08:55:25.69523Z",
          "iopub.execute_input": "2021-06-29T08:55:25.69552Z",
          "iopub.status.idle": "2021-06-29T08:55:25.824115Z",
          "shell.execute_reply.started": "2021-06-29T08:55:25.695493Z",
          "shell.execute_reply": "2021-06-29T08:55:25.822987Z"
        },
        "trusted": true,
        "id": "xknq1n12W1nA"
      },
      "execution_count": null,
      "outputs": []
    },
    {
      "cell_type": "markdown",
      "source": [
        "* Major customers who moved out were having Electronic Check as Payment Method.\n",
        "* Customers who opted for Credit-Card automatic transfer or Bank Automatic Transfer and Mailed Check as Payment Method were less likely to move out.  "
      ],
      "metadata": {
        "id": "jFNwc-4JW1nA"
      }
    },
    {
      "cell_type": "code",
      "source": [
        "df[\"InternetService\"].unique()"
      ],
      "metadata": {
        "_kg_hide-input": true,
        "_kg_hide-output": true,
        "execution": {
          "iopub.status.busy": "2021-06-29T08:55:25.831071Z",
          "iopub.execute_input": "2021-06-29T08:55:25.831733Z",
          "iopub.status.idle": "2021-06-29T08:55:25.839649Z",
          "shell.execute_reply.started": "2021-06-29T08:55:25.831685Z",
          "shell.execute_reply": "2021-06-29T08:55:25.838535Z"
        },
        "trusted": true,
        "id": "nwGXa5xFW1nA"
      },
      "execution_count": null,
      "outputs": []
    },
    {
      "cell_type": "code",
      "source": [
        " df[df[\"gender\"]==\"Male\"][[\"InternetService\", \"Churn\"]].value_counts()"
      ],
      "metadata": {
        "_kg_hide-input": true,
        "_kg_hide-output": true,
        "execution": {
          "iopub.status.busy": "2021-06-29T08:55:25.84227Z",
          "iopub.execute_input": "2021-06-29T08:55:25.842558Z",
          "iopub.status.idle": "2021-06-29T08:55:25.863202Z",
          "shell.execute_reply.started": "2021-06-29T08:55:25.84253Z",
          "shell.execute_reply": "2021-06-29T08:55:25.862028Z"
        },
        "trusted": true,
        "id": "k06VuFR1W1nA"
      },
      "execution_count": null,
      "outputs": []
    },
    {
      "cell_type": "code",
      "source": [
        "df[df[\"gender\"]==\"Female\"][[\"InternetService\", \"Churn\"]].value_counts()"
      ],
      "metadata": {
        "_kg_hide-input": true,
        "_kg_hide-output": true,
        "execution": {
          "iopub.status.busy": "2021-06-29T08:55:25.864461Z",
          "iopub.execute_input": "2021-06-29T08:55:25.864756Z",
          "iopub.status.idle": "2021-06-29T08:55:25.880723Z",
          "shell.execute_reply.started": "2021-06-29T08:55:25.864726Z",
          "shell.execute_reply": "2021-06-29T08:55:25.879398Z"
        },
        "trusted": true,
        "id": "nYFTkRuYW1nB"
      },
      "execution_count": null,
      "outputs": []
    },
    {
      "cell_type": "code",
      "source": [
        "fig = go.Figure()\n",
        "\n",
        "fig.add_trace(go.Bar(\n",
        "  x = [['Churn:No', 'Churn:No', 'Churn:Yes', 'Churn:Yes'],\n",
        "       [\"Female\", \"Male\", \"Female\", \"Male\"]],\n",
        "  y = [965, 992, 219, 240],\n",
        "  name = 'DSL',\n",
        "))\n",
        "\n",
        "fig.add_trace(go.Bar(\n",
        "  x = [['Churn:No', 'Churn:No', 'Churn:Yes', 'Churn:Yes'],\n",
        "       [\"Female\", \"Male\", \"Female\", \"Male\"]],\n",
        "  y = [889, 910, 664, 633],\n",
        "  name = 'Fiber optic',\n",
        "))\n",
        "\n",
        "fig.add_trace(go.Bar(\n",
        "  x = [['Churn:No', 'Churn:No', 'Churn:Yes', 'Churn:Yes'],\n",
        "       [\"Female\", \"Male\", \"Female\", \"Male\"]],\n",
        "  y = [690, 717, 56, 57],\n",
        "  name = 'No Internet',\n",
        "))\n",
        "\n",
        "fig.update_layout(title_text=\"<b>Churn Distribution w.r.t. Internet Service and Gender</b>\")\n",
        "\n",
        "fig.show()"
      ],
      "metadata": {
        "_kg_hide-input": true,
        "execution": {
          "iopub.status.busy": "2021-06-29T08:55:25.882443Z",
          "iopub.execute_input": "2021-06-29T08:55:25.883034Z",
          "iopub.status.idle": "2021-06-29T08:55:25.905513Z",
          "shell.execute_reply.started": "2021-06-29T08:55:25.882986Z",
          "shell.execute_reply": "2021-06-29T08:55:25.904261Z"
        },
        "trusted": true,
        "id": "tmuJ-G2LW1nB"
      },
      "execution_count": null,
      "outputs": []
    },
    {
      "cell_type": "markdown",
      "source": [
        "* A lot of customers choose the Fiber optic service and it's also evident that the customers who use Fiber optic have high churn rate, this might suggest a dissatisfaction with this type of internet service.\n",
        "* Customers having DSL service are majority in number and have less churn rate compared to Fibre optic service."
      ],
      "metadata": {
        "id": "-YP8pFD3W1nB"
      }
    },
    {
      "cell_type": "code",
      "source": [
        "color_map = {\"Yes\": \"#FF97FF\", \"No\": \"#AB63FA\"}\n",
        "fig = px.histogram(df, x=\"Churn\", color=\"Dependents\", barmode=\"group\", title=\"<b>Dependents distribution</b>\", color_discrete_map=color_map)\n",
        "fig.update_layout(width=700, height=500, bargap=0.1)\n",
        "fig.show()"
      ],
      "metadata": {
        "_kg_hide-input": true,
        "execution": {
          "iopub.status.busy": "2021-06-29T08:55:25.907426Z",
          "iopub.execute_input": "2021-06-29T08:55:25.908003Z",
          "iopub.status.idle": "2021-06-29T08:55:26.031946Z",
          "shell.execute_reply.started": "2021-06-29T08:55:25.907958Z",
          "shell.execute_reply": "2021-06-29T08:55:26.031019Z"
        },
        "trusted": true,
        "id": "-bjKjwmvW1nB"
      },
      "execution_count": null,
      "outputs": []
    },
    {
      "cell_type": "markdown",
      "source": [
        "* Customers without dependents are more likely to churn"
      ],
      "metadata": {
        "id": "e07aSYO8W1nB"
      }
    },
    {
      "cell_type": "code",
      "source": [
        "color_map = {\"Yes\": '#FFA15A', \"No\": '#00CC96'}\n",
        "fig = px.histogram(df, x=\"Churn\", color=\"Partner\", barmode=\"group\", title=\"<b>Chrun distribution w.r.t. Partners</b>\", color_discrete_map=color_map)\n",
        "fig.update_layout(width=700, height=500, bargap=0.1)\n",
        "fig.show()"
      ],
      "metadata": {
        "_kg_hide-input": true,
        "execution": {
          "iopub.status.busy": "2021-06-29T08:55:26.033256Z",
          "iopub.execute_input": "2021-06-29T08:55:26.033538Z",
          "iopub.status.idle": "2021-06-29T08:55:26.153342Z",
          "shell.execute_reply.started": "2021-06-29T08:55:26.033511Z",
          "shell.execute_reply": "2021-06-29T08:55:26.152603Z"
        },
        "trusted": true,
        "id": "FvmNZevHW1nB"
      },
      "execution_count": null,
      "outputs": []
    },
    {
      "cell_type": "markdown",
      "source": [
        "* Customers that doesn't have partners are more likely to churn"
      ],
      "metadata": {
        "id": "A49BWIAGW1nC"
      }
    },
    {
      "cell_type": "code",
      "source": [
        "color_map = {\"Yes\": '#00CC96', \"No\": '#B6E880'}\n",
        "fig = px.histogram(df, x=\"Churn\", color=\"SeniorCitizen\", title=\"<b>Chrun distribution w.r.t. Senior Citizen</b>\", color_discrete_map=color_map)\n",
        "fig.update_layout(width=700, height=500, bargap=0.1)\n",
        "fig.show()"
      ],
      "metadata": {
        "_kg_hide-input": true,
        "execution": {
          "iopub.status.busy": "2021-06-29T08:55:26.154403Z",
          "iopub.execute_input": "2021-06-29T08:55:26.154836Z",
          "iopub.status.idle": "2021-06-29T08:55:26.274197Z",
          "shell.execute_reply.started": "2021-06-29T08:55:26.154794Z",
          "shell.execute_reply": "2021-06-29T08:55:26.273283Z"
        },
        "trusted": true,
        "id": "HzuRFPwAW1nC"
      },
      "execution_count": null,
      "outputs": []
    },
    {
      "cell_type": "markdown",
      "source": [
        "* It can be observed that the fraction of senior citizen is very less.\n",
        "* Most of the senior citizens churn."
      ],
      "metadata": {
        "id": "8AvyWlNzW1nC"
      }
    },
    {
      "cell_type": "code",
      "source": [
        "color_map = {\"Yes\": \"#FF97FF\", \"No\": \"#AB63FA\"}\n",
        "fig = px.histogram(df, x=\"Churn\", color=\"OnlineSecurity\", barmode=\"group\", title=\"<b>Churn w.r.t Online Security</b>\", color_discrete_map=color_map)\n",
        "fig.update_layout(width=700, height=500, bargap=0.1)\n",
        "fig.show()"
      ],
      "metadata": {
        "_kg_hide-input": true,
        "execution": {
          "iopub.status.busy": "2021-06-29T08:55:26.275399Z",
          "iopub.execute_input": "2021-06-29T08:55:26.275696Z",
          "iopub.status.idle": "2021-06-29T08:55:26.400788Z",
          "shell.execute_reply.started": "2021-06-29T08:55:26.275667Z",
          "shell.execute_reply": "2021-06-29T08:55:26.399694Z"
        },
        "trusted": true,
        "id": "ZBoPHNC5W1nC"
      },
      "execution_count": null,
      "outputs": []
    },
    {
      "cell_type": "markdown",
      "source": [
        "* Most customers churn in the absence of online security,"
      ],
      "metadata": {
        "id": "IMGmCXCZW1nC"
      }
    },
    {
      "cell_type": "code",
      "source": [
        "color_map = {\"Yes\": '#FFA15A', \"No\": '#00CC96'}\n",
        "fig = px.histogram(df, x=\"Churn\", color=\"PaperlessBilling\",  title=\"<b>Chrun distribution w.r.t. Paperless Billing</b>\", color_discrete_map=color_map)\n",
        "fig.update_layout(width=700, height=500, bargap=0.1)\n",
        "fig.show()"
      ],
      "metadata": {
        "_kg_hide-input": true,
        "execution": {
          "iopub.status.busy": "2021-06-29T08:55:26.402297Z",
          "iopub.execute_input": "2021-06-29T08:55:26.402719Z",
          "iopub.status.idle": "2021-06-29T08:55:26.524957Z",
          "shell.execute_reply.started": "2021-06-29T08:55:26.402672Z",
          "shell.execute_reply": "2021-06-29T08:55:26.52395Z"
        },
        "trusted": true,
        "id": "qDMfBOPBW1nC"
      },
      "execution_count": null,
      "outputs": []
    },
    {
      "cell_type": "markdown",
      "source": [
        "* Customers with Paperless Billing are most likely to churn."
      ],
      "metadata": {
        "id": "6h9kYgkQW1nD"
      }
    },
    {
      "cell_type": "code",
      "source": [
        "fig = px.histogram(df, x=\"Churn\", color=\"TechSupport\",barmode=\"group\",  title=\"<b>Chrun distribution w.r.t. TechSupport</b>\")\n",
        "fig.update_layout(width=700, height=500, bargap=0.1)\n",
        "fig.show()"
      ],
      "metadata": {
        "_kg_hide-input": true,
        "execution": {
          "iopub.status.busy": "2021-06-29T08:55:26.525989Z",
          "iopub.execute_input": "2021-06-29T08:55:26.526254Z",
          "iopub.status.idle": "2021-06-29T08:55:26.654832Z",
          "shell.execute_reply.started": "2021-06-29T08:55:26.526228Z",
          "shell.execute_reply": "2021-06-29T08:55:26.653885Z"
        },
        "trusted": true,
        "id": "cohKcAfiW1nD"
      },
      "execution_count": null,
      "outputs": []
    },
    {
      "cell_type": "markdown",
      "source": [
        "* Customers with no TechSupport are most likely to migrate to another service provider."
      ],
      "metadata": {
        "id": "7dtj4bBmW1nD"
      }
    },
    {
      "cell_type": "code",
      "source": [
        "color_map = {\"Yes\": '#00CC96', \"No\": '#B6E880'}\n",
        "fig = px.histogram(df, x=\"Churn\", color=\"PhoneService\", title=\"<b>Chrun distribution w.r.t. Phone Service</b>\", color_discrete_map=color_map)\n",
        "fig.update_layout(width=700, height=500, bargap=0.1)\n",
        "fig.show()"
      ],
      "metadata": {
        "_kg_hide-input": true,
        "execution": {
          "iopub.status.busy": "2021-06-29T08:55:26.656191Z",
          "iopub.execute_input": "2021-06-29T08:55:26.656482Z",
          "iopub.status.idle": "2021-06-29T08:55:26.777537Z",
          "shell.execute_reply.started": "2021-06-29T08:55:26.656452Z",
          "shell.execute_reply": "2021-06-29T08:55:26.776572Z"
        },
        "trusted": true,
        "id": "7vd7FijTW1nD"
      },
      "execution_count": null,
      "outputs": []
    },
    {
      "cell_type": "markdown",
      "source": [
        "* Very small fraction of customers don't have a phone service and out of that, 1/3rd Customers are more likely to churn."
      ],
      "metadata": {
        "id": "OK-QvAM3W1nE"
      }
    },
    {
      "cell_type": "code",
      "source": [
        "sns.set_context(\"paper\",font_scale=1.1)\n",
        "ax = sns.kdeplot(df.MonthlyCharges[(df[\"Churn\"] == 'No') ],\n",
        "                color=\"Red\", shade = True);\n",
        "ax = sns.kdeplot(df.MonthlyCharges[(df[\"Churn\"] == 'Yes') ],\n",
        "                ax =ax, color=\"Blue\", shade= True);\n",
        "ax.legend([\"Not Churn\",\"Churn\"],loc='upper right');\n",
        "ax.set_ylabel('Density');\n",
        "ax.set_xlabel('Monthly Charges');\n",
        "ax.set_title('Distribution of monthly charges by churn');\n"
      ],
      "metadata": {
        "_kg_hide-input": true,
        "execution": {
          "iopub.status.busy": "2021-06-29T08:55:26.77882Z",
          "iopub.execute_input": "2021-06-29T08:55:26.779136Z",
          "iopub.status.idle": "2021-06-29T08:55:27.030602Z",
          "shell.execute_reply.started": "2021-06-29T08:55:26.779105Z",
          "shell.execute_reply": "2021-06-29T08:55:27.02957Z"
        },
        "trusted": true,
        "id": "gB_qn2eiW1nE"
      },
      "execution_count": null,
      "outputs": []
    },
    {
      "cell_type": "markdown",
      "source": [
        "* Customers with higher Monthly Charges are also more likely to churn"
      ],
      "metadata": {
        "id": "9XPtXD8vW1nF"
      }
    },
    {
      "cell_type": "code",
      "source": [
        "ax = sns.kdeplot(df.TotalCharges[(df[\"Churn\"] == 'No') ],\n",
        "                color=\"Gold\", shade = True);\n",
        "ax = sns.kdeplot(df.TotalCharges[(df[\"Churn\"] == 'Yes') ],\n",
        "                ax =ax, color=\"Green\", shade= True);\n",
        "ax.legend([\"Not Chu0rn\",\"Churn\"],loc='upper right');\n",
        "ax.set_ylabel('Density');\n",
        "ax.set_xlabel('Total Charges');\n",
        "ax.set_title('Distribution of total charges by churn');"
      ],
      "metadata": {
        "_kg_hide-input": true,
        "execution": {
          "iopub.status.busy": "2021-06-29T08:55:27.034373Z",
          "iopub.execute_input": "2021-06-29T08:55:27.0347Z",
          "iopub.status.idle": "2021-06-29T08:55:27.254908Z",
          "shell.execute_reply.started": "2021-06-29T08:55:27.034669Z",
          "shell.execute_reply": "2021-06-29T08:55:27.253983Z"
        },
        "trusted": true,
        "id": "Mdr6xRMsW1nF"
      },
      "execution_count": null,
      "outputs": []
    },
    {
      "cell_type": "code",
      "source": [
        "fig = px.box(df, x='Churn', y = 'tenure')\n",
        "\n",
        "# Update yaxis properties\n",
        "fig.update_yaxes(title_text='Tenure (Months)', row=1, col=1)\n",
        "# Update xaxis properties\n",
        "fig.update_xaxes(title_text='Churn', row=1, col=1)\n",
        "\n",
        "# Update size and title\n",
        "fig.update_layout(autosize=True, width=750, height=600,\n",
        "    title_font=dict(size=25, family='Courier'),\n",
        "    title='<b>Tenure vs Churn</b>',\n",
        ")\n",
        "\n",
        "fig.show()\n"
      ],
      "metadata": {
        "_kg_hide-input": true,
        "execution": {
          "iopub.status.busy": "2021-06-29T08:55:27.256739Z",
          "iopub.execute_input": "2021-06-29T08:55:27.257066Z",
          "iopub.status.idle": "2021-06-29T08:55:27.422887Z",
          "shell.execute_reply.started": "2021-06-29T08:55:27.257034Z",
          "shell.execute_reply": "2021-06-29T08:55:27.42188Z"
        },
        "trusted": true,
        "id": "lOiYwUjNW1nF"
      },
      "execution_count": null,
      "outputs": []
    },
    {
      "cell_type": "markdown",
      "source": [
        "* New customers are more likely to churn"
      ],
      "metadata": {
        "id": "5_5of9UnW1nF"
      }
    },
    {
      "cell_type": "code",
      "source": [
        "plt.figure(figsize=(25, 10))\n",
        "\n",
        "corr = df.apply(lambda x: pd.factorize(x)[0]).corr()\n",
        "\n",
        "mask = np.triu(np.ones_like(corr, dtype=bool))\n",
        "\n",
        "ax = sns.heatmap(corr, mask=mask, xticklabels=corr.columns, yticklabels=corr.columns, annot=True, linewidths=.2, cmap='coolwarm', vmin=-1, vmax=1)"
      ],
      "metadata": {
        "execution": {
          "iopub.status.busy": "2021-06-29T08:55:27.424103Z",
          "iopub.execute_input": "2021-06-29T08:55:27.424386Z",
          "iopub.status.idle": "2021-06-29T08:55:28.751198Z",
          "shell.execute_reply.started": "2021-06-29T08:55:27.424358Z",
          "shell.execute_reply": "2021-06-29T08:55:28.750091Z"
        },
        "trusted": true,
        "id": "PLUpigKHW1nF"
      },
      "execution_count": null,
      "outputs": []
    },
    {
      "cell_type": "markdown",
      "source": [
        "___"
      ],
      "metadata": {
        "id": "J3vYxSvAW1nF"
      }
    },
    {
      "cell_type": "markdown",
      "source": [
        "<a id = \"10\" ></a>\n",
        "# <span style=\"font-family:serif; font-size:28px;\"> 7. Data Preprocessing</span>\n",
        "<a id = \"datapreprocessing\" ></a>"
      ],
      "metadata": {
        "id": "uHQXSWnAW1nF"
      }
    },
    {
      "cell_type": "markdown",
      "source": [
        "<a id = \"1111\" ></a>\n",
        "#### **Splitting the data into train and test sets**\n",
        "<a id = \"Split\" ></a>"
      ],
      "metadata": {
        "id": "Ty6Yv0nVW1nF"
      }
    },
    {
      "cell_type": "code",
      "source": [
        "def object_to_int(dataframe_series):\n",
        "    if dataframe_series.dtype=='object':\n",
        "        dataframe_series = LabelEncoder().fit_transform(dataframe_series)\n",
        "    return dataframe_series"
      ],
      "metadata": {
        "execution": {
          "iopub.status.busy": "2021-06-29T08:55:28.752774Z",
          "iopub.execute_input": "2021-06-29T08:55:28.753213Z",
          "iopub.status.idle": "2021-06-29T08:55:28.758543Z",
          "shell.execute_reply.started": "2021-06-29T08:55:28.753167Z",
          "shell.execute_reply": "2021-06-29T08:55:28.757475Z"
        },
        "trusted": true,
        "id": "6DRzYhWSW1nG"
      },
      "execution_count": null,
      "outputs": []
    },
    {
      "cell_type": "code",
      "source": [
        "df = df.apply(lambda x: object_to_int(x))\n",
        "df.head()"
      ],
      "metadata": {
        "execution": {
          "iopub.status.busy": "2021-06-29T08:55:28.760307Z",
          "iopub.execute_input": "2021-06-29T08:55:28.761075Z",
          "iopub.status.idle": "2021-06-29T08:55:28.834452Z",
          "shell.execute_reply.started": "2021-06-29T08:55:28.761028Z",
          "shell.execute_reply": "2021-06-29T08:55:28.833378Z"
        },
        "trusted": true,
        "id": "wKDzF7woW1nG"
      },
      "execution_count": null,
      "outputs": []
    },
    {
      "cell_type": "code",
      "source": [
        "plt.figure(figsize=(14,7))\n",
        "df.corr()['Churn'].sort_values(ascending = False)"
      ],
      "metadata": {
        "execution": {
          "iopub.status.busy": "2021-06-29T08:55:28.835992Z",
          "iopub.execute_input": "2021-06-29T08:55:28.836664Z",
          "iopub.status.idle": "2021-06-29T08:55:28.859586Z",
          "shell.execute_reply.started": "2021-06-29T08:55:28.836618Z",
          "shell.execute_reply": "2021-06-29T08:55:28.858822Z"
        },
        "trusted": true,
        "id": "MSUAy7XeW1nG"
      },
      "execution_count": null,
      "outputs": []
    },
    {
      "cell_type": "code",
      "source": [
        "X = df.drop(columns = ['Churn'])\n",
        "y = df['Churn'].values"
      ],
      "metadata": {
        "execution": {
          "iopub.status.busy": "2021-06-29T08:55:28.860946Z",
          "iopub.execute_input": "2021-06-29T08:55:28.861503Z",
          "iopub.status.idle": "2021-06-29T08:55:28.868545Z",
          "shell.execute_reply.started": "2021-06-29T08:55:28.861461Z",
          "shell.execute_reply": "2021-06-29T08:55:28.867426Z"
        },
        "trusted": true,
        "id": "YAie429jW1nG"
      },
      "execution_count": null,
      "outputs": []
    },
    {
      "cell_type": "code",
      "source": [
        "X_train, X_test, y_train, y_test = train_test_split(X,y,test_size = 0.30, random_state = 40, stratify=y)"
      ],
      "metadata": {
        "execution": {
          "iopub.status.busy": "2021-06-29T08:55:28.869874Z",
          "iopub.execute_input": "2021-06-29T08:55:28.870195Z",
          "iopub.status.idle": "2021-06-29T08:55:28.890562Z",
          "shell.execute_reply.started": "2021-06-29T08:55:28.870167Z",
          "shell.execute_reply": "2021-06-29T08:55:28.889564Z"
        },
        "trusted": true,
        "id": "Ta-5wXceW1nG"
      },
      "execution_count": null,
      "outputs": []
    },
    {
      "cell_type": "code",
      "source": [
        "def distplot(feature, frame, color='r'):\n",
        "    plt.figure(figsize=(8,3))\n",
        "    plt.title(\"Distribution for {}\".format(feature))\n",
        "    ax = sns.distplot(frame[feature], color= color)"
      ],
      "metadata": {
        "execution": {
          "iopub.status.busy": "2021-06-29T08:55:28.891895Z",
          "iopub.execute_input": "2021-06-29T08:55:28.892203Z",
          "iopub.status.idle": "2021-06-29T08:55:28.897523Z",
          "shell.execute_reply.started": "2021-06-29T08:55:28.892174Z",
          "shell.execute_reply": "2021-06-29T08:55:28.896587Z"
        },
        "trusted": true,
        "id": "SUSZZahDW1nG"
      },
      "execution_count": null,
      "outputs": []
    },
    {
      "cell_type": "code",
      "source": [
        "num_cols = [\"tenure\", 'MonthlyCharges', 'TotalCharges']\n",
        "for feat in num_cols: distplot(feat, df)"
      ],
      "metadata": {
        "execution": {
          "iopub.status.busy": "2021-06-29T08:55:28.898693Z",
          "iopub.execute_input": "2021-06-29T08:55:28.89922Z",
          "iopub.status.idle": "2021-06-29T08:55:29.55484Z",
          "shell.execute_reply.started": "2021-06-29T08:55:28.899191Z",
          "shell.execute_reply": "2021-06-29T08:55:29.554168Z"
        },
        "trusted": true,
        "id": "qcBe7GhQW1nH"
      },
      "execution_count": null,
      "outputs": []
    },
    {
      "cell_type": "markdown",
      "source": [
        "Since the numerical features are distributed over different value ranges, I will use standard scalar to scale them down to the same range."
      ],
      "metadata": {
        "id": "aQJQN5zSW1nH"
      }
    },
    {
      "cell_type": "markdown",
      "source": [
        "<a id = \"111\" ></a>\n",
        "#### **Standardizing numeric attributes**\n",
        "<a id = \"Standardizing\" ></a>"
      ],
      "metadata": {
        "id": "YUvI6z8dW1nH"
      }
    },
    {
      "cell_type": "code",
      "source": [
        "df_std = pd.DataFrame(StandardScaler().fit_transform(df[num_cols].astype('float64')),\n",
        "                       columns=num_cols)\n",
        "for feat in numerical_cols: distplot(feat, df_std, color='c')"
      ],
      "metadata": {
        "execution": {
          "iopub.status.busy": "2021-06-29T08:55:29.555816Z",
          "iopub.execute_input": "2021-06-29T08:55:29.556212Z",
          "iopub.status.idle": "2021-06-29T08:55:30.351665Z",
          "shell.execute_reply.started": "2021-06-29T08:55:29.556183Z",
          "shell.execute_reply": "2021-06-29T08:55:30.350459Z"
        },
        "trusted": true,
        "id": "q0xwFRgCW1nH"
      },
      "execution_count": null,
      "outputs": []
    },
    {
      "cell_type": "code",
      "source": [
        "# Divide the columns into 3 categories, one ofor standardisation, one for label encoding and one for one hot encoding\n",
        "\n",
        "cat_cols_ohe =['PaymentMethod', 'Contract', 'InternetService'] # those that need one-hot encoding\n",
        "cat_cols_le = list(set(X_train.columns)- set(num_cols) - set(cat_cols_ohe)) #those that need label encoding"
      ],
      "metadata": {
        "execution": {
          "iopub.status.busy": "2021-06-29T08:55:30.353018Z",
          "iopub.execute_input": "2021-06-29T08:55:30.353312Z",
          "iopub.status.idle": "2021-06-29T08:55:30.357981Z",
          "shell.execute_reply.started": "2021-06-29T08:55:30.353283Z",
          "shell.execute_reply": "2021-06-29T08:55:30.356952Z"
        },
        "trusted": true,
        "id": "mP9TecgEW1nH"
      },
      "execution_count": null,
      "outputs": []
    },
    {
      "cell_type": "code",
      "source": [
        "scaler= StandardScaler()\n",
        "\n",
        "X_train[num_cols] = scaler.fit_transform(X_train[num_cols])\n",
        "X_test[num_cols] = scaler.transform(X_test[num_cols])"
      ],
      "metadata": {
        "execution": {
          "iopub.status.busy": "2021-06-29T08:55:30.359412Z",
          "iopub.execute_input": "2021-06-29T08:55:30.359698Z",
          "iopub.status.idle": "2021-06-29T08:55:30.391197Z",
          "shell.execute_reply.started": "2021-06-29T08:55:30.35967Z",
          "shell.execute_reply": "2021-06-29T08:55:30.390149Z"
        },
        "trusted": true,
        "id": "PJak_2XuW1nH"
      },
      "execution_count": null,
      "outputs": []
    },
    {
      "cell_type": "markdown",
      "source": [
        "<a id = \"11\" ></a>\n",
        "# <span style=\"font-family:serif; font-size:28px;\"> 8. Machine Learning Model Evaluations and Predictions</span>\n",
        "<a id = \"modelprediction\" ></a>"
      ],
      "metadata": {
        "id": "ZnZZfzxbW1nH"
      }
    },
    {
      "cell_type": "markdown",
      "source": [
        "![AI-Workbench-Predict-propensity-churn-notebook.png](attachment:8fc66a4b-838f-401e-bf6b-4577d1f313ec.png)"
      ],
      "metadata": {
        "id": "kuhPxcXUW1nH"
      }
    },
    {
      "cell_type": "markdown",
      "source": [
        "<a id = \"101\" ></a>\n",
        "#### <b> KNN</b>\n",
        "<a id = \"knn\" ></a>"
      ],
      "metadata": {
        "id": "eN4r2YFYW1nH"
      }
    },
    {
      "cell_type": "code",
      "source": [
        "knn_model = KNeighborsClassifier(n_neighbors = 11)\n",
        "knn_model.fit(X_train,y_train)\n",
        "predicted_y = knn_model.predict(X_test)\n",
        "accuracy_knn = knn_model.score(X_test,y_test)\n",
        "print(\"KNN accuracy:\",accuracy_knn)"
      ],
      "metadata": {
        "execution": {
          "iopub.status.busy": "2021-06-29T08:55:30.392507Z",
          "iopub.execute_input": "2021-06-29T08:55:30.392806Z",
          "iopub.status.idle": "2021-06-29T08:55:31.072301Z",
          "shell.execute_reply.started": "2021-06-29T08:55:30.392776Z",
          "shell.execute_reply": "2021-06-29T08:55:31.071164Z"
        },
        "trusted": true,
        "id": "kCBNpCX8W1nI"
      },
      "execution_count": null,
      "outputs": []
    },
    {
      "cell_type": "code",
      "source": [
        "print(classification_report(y_test, predicted_y))"
      ],
      "metadata": {
        "execution": {
          "iopub.status.busy": "2021-06-29T08:56:22.231829Z",
          "iopub.execute_input": "2021-06-29T08:56:22.232236Z",
          "iopub.status.idle": "2021-06-29T08:56:22.245657Z",
          "shell.execute_reply.started": "2021-06-29T08:56:22.232204Z",
          "shell.execute_reply": "2021-06-29T08:56:22.244266Z"
        },
        "trusted": true,
        "id": "C8e9J7pQW1nI"
      },
      "execution_count": null,
      "outputs": []
    },
    {
      "cell_type": "markdown",
      "source": [
        "<a id = \"102\" ></a>\n",
        "#### <b>SVC</b>\n",
        "<a id = \"svc\" ></a>"
      ],
      "metadata": {
        "id": "rc1q3lLKW1nI"
      }
    },
    {
      "cell_type": "code",
      "source": [
        "svc_model = SVC(random_state = 1)\n",
        "svc_model.fit(X_train,y_train)\n",
        "predict_y = svc_model.predict(X_test)\n",
        "accuracy_svc = svc_model.score(X_test,y_test)\n",
        "print(\"SVM accuracy is :\",accuracy_svc)"
      ],
      "metadata": {
        "execution": {
          "iopub.status.busy": "2021-06-29T08:58:18.234191Z",
          "iopub.execute_input": "2021-06-29T08:58:18.234742Z",
          "iopub.status.idle": "2021-06-29T08:58:19.916363Z",
          "shell.execute_reply.started": "2021-06-29T08:58:18.234695Z",
          "shell.execute_reply": "2021-06-29T08:58:19.91526Z"
        },
        "trusted": true,
        "id": "LePJZRV9W1nI"
      },
      "execution_count": null,
      "outputs": []
    },
    {
      "cell_type": "code",
      "source": [
        "print(classification_report(y_test, predict_y))"
      ],
      "metadata": {
        "execution": {
          "iopub.status.busy": "2021-06-29T08:58:26.682624Z",
          "iopub.execute_input": "2021-06-29T08:58:26.683015Z",
          "iopub.status.idle": "2021-06-29T08:58:26.696757Z",
          "shell.execute_reply.started": "2021-06-29T08:58:26.682961Z",
          "shell.execute_reply": "2021-06-29T08:58:26.695311Z"
        },
        "trusted": true,
        "id": "fv_XKHevW1nI"
      },
      "execution_count": null,
      "outputs": []
    },
    {
      "cell_type": "markdown",
      "source": [
        "<a id = \"103\" ></a>\n",
        "#### <b> Random Forest</b>\n",
        "<a id = \"rf\" ></a>"
      ],
      "metadata": {
        "id": "YqSycu_zW1nI"
      }
    },
    {
      "cell_type": "code",
      "source": [
        "model_rf = RandomForestClassifier(n_estimators=500 , oob_score = True, n_jobs = -1,\n",
        "                                  random_state =50, max_features = \"auto\",\n",
        "                                  max_leaf_nodes = 30)\n",
        "model_rf.fit(X_train, y_train)\n",
        "\n",
        "# Make predictions\n",
        "prediction_test = model_rf.predict(X_test)\n",
        "print (metrics.accuracy_score(y_test, prediction_test))"
      ],
      "metadata": {
        "execution": {
          "iopub.status.busy": "2021-06-29T08:55:32.340726Z",
          "iopub.execute_input": "2021-06-29T08:55:32.341443Z",
          "iopub.status.idle": "2021-06-29T08:55:34.742449Z",
          "shell.execute_reply.started": "2021-06-29T08:55:32.341397Z",
          "shell.execute_reply": "2021-06-29T08:55:34.741335Z"
        },
        "trusted": true,
        "id": "byywJqjhW1nI"
      },
      "execution_count": null,
      "outputs": []
    },
    {
      "cell_type": "code",
      "source": [
        "print(classification_report(y_test, prediction_test))"
      ],
      "metadata": {
        "execution": {
          "iopub.status.busy": "2021-06-29T08:59:03.523397Z",
          "iopub.execute_input": "2021-06-29T08:59:03.524126Z",
          "iopub.status.idle": "2021-06-29T08:59:03.540549Z",
          "shell.execute_reply.started": "2021-06-29T08:59:03.524077Z",
          "shell.execute_reply": "2021-06-29T08:59:03.539177Z"
        },
        "trusted": true,
        "id": "YNpVPBYVW1nI"
      },
      "execution_count": null,
      "outputs": []
    },
    {
      "cell_type": "code",
      "source": [
        "plt.figure(figsize=(4,3))\n",
        "sns.heatmap(confusion_matrix(y_test, prediction_test),\n",
        "                annot=True,fmt = \"d\",linecolor=\"k\",linewidths=3)\n",
        "\n",
        "plt.title(\" RANDOM FOREST CONFUSION MATRIX\",fontsize=14)\n",
        "plt.show()"
      ],
      "metadata": {
        "execution": {
          "iopub.status.busy": "2021-06-29T08:55:34.743756Z",
          "iopub.execute_input": "2021-06-29T08:55:34.744061Z",
          "iopub.status.idle": "2021-06-29T08:55:34.981277Z",
          "shell.execute_reply.started": "2021-06-29T08:55:34.744032Z",
          "shell.execute_reply": "2021-06-29T08:55:34.980119Z"
        },
        "trusted": true,
        "id": "6zIwBGP7W1nJ"
      },
      "execution_count": null,
      "outputs": []
    },
    {
      "cell_type": "code",
      "source": [
        "y_rfpred_prob = model_rf.predict_proba(X_test)[:,1]\n",
        "fpr_rf, tpr_rf, thresholds = roc_curve(y_test, y_rfpred_prob)\n",
        "plt.plot([0, 1], [0, 1], 'k--' )\n",
        "plt.plot(fpr_rf, tpr_rf, label='Random Forest',color = \"r\")\n",
        "plt.xlabel('False Positive Rate')\n",
        "plt.ylabel('True Positive Rate')\n",
        "plt.title('Random Forest ROC Curve',fontsize=16)\n",
        "plt.show();"
      ],
      "metadata": {
        "execution": {
          "iopub.status.busy": "2021-06-29T08:55:34.982728Z",
          "iopub.execute_input": "2021-06-29T08:55:34.983106Z",
          "iopub.status.idle": "2021-06-29T08:55:35.330618Z",
          "shell.execute_reply.started": "2021-06-29T08:55:34.983073Z",
          "shell.execute_reply": "2021-06-29T08:55:35.329599Z"
        },
        "trusted": true,
        "id": "1YMOugNlW1nJ"
      },
      "execution_count": null,
      "outputs": []
    },
    {
      "cell_type": "markdown",
      "source": [
        "<a id = \"104\" ></a>\n",
        "#### <b>Logistic Regression</b>\n",
        "<a id = \"lr\" ></a>"
      ],
      "metadata": {
        "id": "yIeu-LuHW1nJ"
      }
    },
    {
      "cell_type": "code",
      "source": [
        "lr_model = LogisticRegression()\n",
        "lr_model.fit(X_train,y_train)\n",
        "accuracy_lr = lr_model.score(X_test,y_test)\n",
        "print(\"Logistic Regression accuracy is :\",accuracy_lr)"
      ],
      "metadata": {
        "execution": {
          "iopub.status.busy": "2021-06-29T08:55:35.331781Z",
          "iopub.execute_input": "2021-06-29T08:55:35.332079Z",
          "iopub.status.idle": "2021-06-29T08:55:35.408352Z",
          "shell.execute_reply.started": "2021-06-29T08:55:35.33205Z",
          "shell.execute_reply": "2021-06-29T08:55:35.407092Z"
        },
        "trusted": true,
        "id": "CSdlnzryW1nJ"
      },
      "execution_count": null,
      "outputs": []
    },
    {
      "cell_type": "code",
      "source": [
        "lr_pred= lr_model.predict(X_test)\n",
        "report = classification_report(y_test,lr_pred)\n",
        "print(report)"
      ],
      "metadata": {
        "execution": {
          "iopub.status.busy": "2021-06-29T08:55:35.410062Z",
          "iopub.execute_input": "2021-06-29T08:55:35.410486Z",
          "iopub.status.idle": "2021-06-29T08:55:35.439172Z",
          "shell.execute_reply.started": "2021-06-29T08:55:35.410441Z",
          "shell.execute_reply": "2021-06-29T08:55:35.437906Z"
        },
        "trusted": true,
        "id": "2img1uFNW1nJ"
      },
      "execution_count": null,
      "outputs": []
    },
    {
      "cell_type": "code",
      "source": [
        "plt.figure(figsize=(4,3))\n",
        "sns.heatmap(confusion_matrix(y_test, lr_pred),\n",
        "                annot=True,fmt = \"d\",linecolor=\"k\",linewidths=3)\n",
        "\n",
        "plt.title(\"LOGISTIC REGRESSION CONFUSION MATRIX\",fontsize=14)\n",
        "plt.show()"
      ],
      "metadata": {
        "execution": {
          "iopub.status.busy": "2021-06-29T08:55:35.444211Z",
          "iopub.execute_input": "2021-06-29T08:55:35.444686Z",
          "iopub.status.idle": "2021-06-29T08:55:35.713293Z",
          "shell.execute_reply.started": "2021-06-29T08:55:35.44464Z",
          "shell.execute_reply": "2021-06-29T08:55:35.712326Z"
        },
        "trusted": true,
        "id": "mGbHW31RW1nJ"
      },
      "execution_count": null,
      "outputs": []
    },
    {
      "cell_type": "code",
      "source": [
        "y_pred_prob = lr_model.predict_proba(X_test)[:,1]\n",
        "fpr, tpr, thresholds = roc_curve(y_test, y_pred_prob)\n",
        "plt.plot([0, 1], [0, 1], 'k--' )\n",
        "plt.plot(fpr, tpr, label='Logistic Regression',color = \"r\")\n",
        "plt.xlabel('False Positive Rate')\n",
        "plt.ylabel('True Positive Rate')\n",
        "plt.title('Logistic Regression ROC Curve',fontsize=16)\n",
        "plt.show();"
      ],
      "metadata": {
        "execution": {
          "iopub.status.busy": "2021-06-29T08:55:35.71466Z",
          "iopub.execute_input": "2021-06-29T08:55:35.715071Z",
          "iopub.status.idle": "2021-06-29T08:55:35.91616Z",
          "shell.execute_reply.started": "2021-06-29T08:55:35.715037Z",
          "shell.execute_reply": "2021-06-29T08:55:35.91521Z"
        },
        "trusted": true,
        "id": "xM1-LK4XW1nL"
      },
      "execution_count": null,
      "outputs": []
    },
    {
      "cell_type": "markdown",
      "source": [
        "<a id = \"105\" ></a>\n",
        "#### **Decision Tree Classifier**\n",
        "<a id = \"dtc\" ></a>"
      ],
      "metadata": {
        "id": "7sAPpKLQW1nM"
      }
    },
    {
      "cell_type": "code",
      "source": [
        "dt_model = DecisionTreeClassifier()\n",
        "dt_model.fit(X_train,y_train)\n",
        "predictdt_y = dt_model.predict(X_test)\n",
        "accuracy_dt = dt_model.score(X_test,y_test)\n",
        "print(\"Decision Tree accuracy is :\",accuracy_dt)"
      ],
      "metadata": {
        "execution": {
          "iopub.status.busy": "2021-06-29T09:00:45.62535Z",
          "iopub.execute_input": "2021-06-29T09:00:45.62588Z",
          "iopub.status.idle": "2021-06-29T09:00:45.661933Z",
          "shell.execute_reply.started": "2021-06-29T09:00:45.625832Z",
          "shell.execute_reply": "2021-06-29T09:00:45.661146Z"
        },
        "trusted": true,
        "id": "BlbaYG4KW1nM"
      },
      "execution_count": null,
      "outputs": []
    },
    {
      "cell_type": "markdown",
      "source": [
        "Decision tree gives very low score."
      ],
      "metadata": {
        "id": "9iDoLCcoW1nM"
      }
    },
    {
      "cell_type": "code",
      "source": [
        "print(classification_report(y_test, predictdt_y))"
      ],
      "metadata": {
        "execution": {
          "iopub.status.busy": "2021-06-29T09:00:56.663475Z",
          "iopub.execute_input": "2021-06-29T09:00:56.663991Z",
          "iopub.status.idle": "2021-06-29T09:00:56.676914Z",
          "shell.execute_reply.started": "2021-06-29T09:00:56.663959Z",
          "shell.execute_reply": "2021-06-29T09:00:56.675331Z"
        },
        "trusted": true,
        "id": "xv3zX6H4W1nM"
      },
      "execution_count": null,
      "outputs": []
    },
    {
      "cell_type": "markdown",
      "source": [
        "<a id = \"106\" ></a>\n",
        "#### **AdaBoost Classifier**\n",
        "<a id = \"ada\" ></a>"
      ],
      "metadata": {
        "id": "4unB6wqFW1nN"
      }
    },
    {
      "cell_type": "code",
      "source": [
        "a_model = AdaBoostClassifier()\n",
        "a_model.fit(X_train,y_train)\n",
        "a_preds = a_model.predict(X_test)\n",
        "print(\"AdaBoost Classifier accuracy\")\n",
        "metrics.accuracy_score(y_test, a_preds)"
      ],
      "metadata": {
        "execution": {
          "iopub.status.busy": "2021-06-29T08:55:35.952116Z",
          "iopub.execute_input": "2021-06-29T08:55:35.952497Z",
          "iopub.status.idle": "2021-06-29T08:55:36.247375Z",
          "shell.execute_reply.started": "2021-06-29T08:55:35.952467Z",
          "shell.execute_reply": "2021-06-29T08:55:36.246484Z"
        },
        "trusted": true,
        "id": "IrI-bDQeW1nN"
      },
      "execution_count": null,
      "outputs": []
    },
    {
      "cell_type": "code",
      "source": [
        "print(classification_report(y_test, a_preds))"
      ],
      "metadata": {
        "execution": {
          "iopub.status.busy": "2021-06-29T09:01:30.862559Z",
          "iopub.execute_input": "2021-06-29T09:01:30.862986Z",
          "iopub.status.idle": "2021-06-29T09:01:30.877468Z",
          "shell.execute_reply.started": "2021-06-29T09:01:30.86295Z",
          "shell.execute_reply": "2021-06-29T09:01:30.87618Z"
        },
        "trusted": true,
        "id": "n3zrGzK6W1nN"
      },
      "execution_count": null,
      "outputs": []
    },
    {
      "cell_type": "code",
      "source": [
        "plt.figure(figsize=(4,3))\n",
        "sns.heatmap(confusion_matrix(y_test, a_preds),\n",
        "                annot=True,fmt = \"d\",linecolor=\"k\",linewidths=3)\n",
        "\n",
        "plt.title(\"AdaBoost Classifier Confusion Matrix\",fontsize=14)\n",
        "plt.show()"
      ],
      "metadata": {
        "execution": {
          "iopub.status.busy": "2021-06-29T08:55:36.248645Z",
          "iopub.execute_input": "2021-06-29T08:55:36.248948Z",
          "iopub.status.idle": "2021-06-29T08:55:36.480332Z",
          "shell.execute_reply.started": "2021-06-29T08:55:36.248919Z",
          "shell.execute_reply": "2021-06-29T08:55:36.479272Z"
        },
        "trusted": true,
        "id": "3v7h0uWWW1nN"
      },
      "execution_count": null,
      "outputs": []
    },
    {
      "cell_type": "markdown",
      "source": [
        "<a id = \"107\" ></a>\n",
        "#### **Gradient Boosting Classifier**\n",
        "<a id = \"gb\" ></a>"
      ],
      "metadata": {
        "id": "0TERerZMW1nO"
      }
    },
    {
      "cell_type": "code",
      "source": [
        "gb = GradientBoostingClassifier()\n",
        "gb.fit(X_train, y_train)\n",
        "gb_pred = gb.predict(X_test)\n",
        "print(\"Gradient Boosting Classifier\", accuracy_score(y_test, gb_pred))"
      ],
      "metadata": {
        "execution": {
          "iopub.status.busy": "2021-06-29T08:55:36.481888Z",
          "iopub.execute_input": "2021-06-29T08:55:36.482295Z",
          "iopub.status.idle": "2021-06-29T08:55:37.214663Z",
          "shell.execute_reply.started": "2021-06-29T08:55:36.482252Z",
          "shell.execute_reply": "2021-06-29T08:55:37.213677Z"
        },
        "trusted": true,
        "id": "0bu7s_FkW1nO"
      },
      "execution_count": null,
      "outputs": []
    },
    {
      "cell_type": "code",
      "source": [
        "print(classification_report(y_test, gb_pred))"
      ],
      "metadata": {
        "execution": {
          "iopub.status.busy": "2021-06-29T09:01:48.523733Z",
          "iopub.execute_input": "2021-06-29T09:01:48.524353Z",
          "iopub.status.idle": "2021-06-29T09:01:48.548096Z",
          "shell.execute_reply.started": "2021-06-29T09:01:48.524297Z",
          "shell.execute_reply": "2021-06-29T09:01:48.546137Z"
        },
        "trusted": true,
        "id": "ho7D6w2FW1nO"
      },
      "execution_count": null,
      "outputs": []
    },
    {
      "cell_type": "code",
      "source": [
        "plt.figure(figsize=(4,3))\n",
        "sns.heatmap(confusion_matrix(y_test, gb_pred),\n",
        "                annot=True,fmt = \"d\",linecolor=\"k\",linewidths=3)\n",
        "\n",
        "plt.title(\"Gradient Boosting Classifier Confusion Matrix\",fontsize=14)\n",
        "plt.show()"
      ],
      "metadata": {
        "execution": {
          "iopub.status.busy": "2021-06-29T08:55:37.215868Z",
          "iopub.execute_input": "2021-06-29T08:55:37.216142Z",
          "iopub.status.idle": "2021-06-29T08:55:37.446138Z",
          "shell.execute_reply.started": "2021-06-29T08:55:37.216114Z",
          "shell.execute_reply": "2021-06-29T08:55:37.445133Z"
        },
        "trusted": true,
        "id": "Z1ozB9vPW1nO"
      },
      "execution_count": null,
      "outputs": []
    },
    {
      "cell_type": "markdown",
      "source": [
        "<a id = \"108\" ></a>\n",
        "#### **Voting Classifier**\n",
        "<a id = \"vc\" ></a>\n",
        "Let's now predict the final model based on the highest majority of voting and check it's score."
      ],
      "metadata": {
        "id": "oqgGBTrGW1nP"
      }
    },
    {
      "cell_type": "code",
      "source": [
        "from sklearn.ensemble import VotingClassifier\n",
        "clf1 = GradientBoostingClassifier()\n",
        "clf2 = LogisticRegression()\n",
        "clf3 = AdaBoostClassifier()\n",
        "eclf1 = VotingClassifier(estimators=[('gbc', clf1), ('lr', clf2), ('abc', clf3)], voting='soft')\n",
        "eclf1.fit(X_train, y_train)\n",
        "predictions = eclf1.predict(X_test)\n",
        "print(\"Final Accuracy Score \")\n",
        "print(accuracy_score(y_test, predictions))"
      ],
      "metadata": {
        "execution": {
          "iopub.status.busy": "2021-06-29T08:55:37.447334Z",
          "iopub.execute_input": "2021-06-29T08:55:37.447617Z",
          "iopub.status.idle": "2021-06-29T08:55:38.607025Z",
          "shell.execute_reply.started": "2021-06-29T08:55:37.447591Z",
          "shell.execute_reply": "2021-06-29T08:55:38.605685Z"
        },
        "trusted": true,
        "id": "g5epN-U4W1nP"
      },
      "execution_count": null,
      "outputs": []
    },
    {
      "cell_type": "code",
      "source": [
        "print(classification_report(y_test, predictions))"
      ],
      "metadata": {
        "execution": {
          "iopub.status.busy": "2021-06-29T09:02:13.192299Z",
          "iopub.execute_input": "2021-06-29T09:02:13.192676Z",
          "iopub.status.idle": "2021-06-29T09:02:13.20672Z",
          "shell.execute_reply.started": "2021-06-29T09:02:13.192644Z",
          "shell.execute_reply": "2021-06-29T09:02:13.205458Z"
        },
        "trusted": true,
        "id": "siyCJ_tOW1nP"
      },
      "execution_count": null,
      "outputs": []
    },
    {
      "cell_type": "code",
      "source": [
        "plt.figure(figsize=(4,3))\n",
        "sns.heatmap(confusion_matrix(y_test, predictions),\n",
        "                annot=True,fmt = \"d\",linecolor=\"k\",linewidths=3)\n",
        "\n",
        "plt.title(\"FINAL CONFUSION MATRIX\",fontsize=14)\n",
        "plt.show()"
      ],
      "metadata": {
        "execution": {
          "iopub.status.busy": "2021-06-29T08:55:38.608752Z",
          "iopub.execute_input": "2021-06-29T08:55:38.609206Z",
          "iopub.status.idle": "2021-06-29T08:55:38.866325Z",
          "shell.execute_reply.started": "2021-06-29T08:55:38.609162Z",
          "shell.execute_reply": "2021-06-29T08:55:38.865328Z"
        },
        "trusted": true,
        "id": "wLNQSs3EW1nQ"
      },
      "execution_count": null,
      "outputs": []
    },
    {
      "cell_type": "markdown",
      "source": [
        "From the confusion matrix we can see that:\n",
        "There are total 1400+149=1549 actual non-churn values and the algorithm predicts 1400 of them as non churn and 149 of them as churn.\n",
        "While there are 237+324=561 actual churn values and the algorithm predicts 237 of them as non churn values and 324 of them as churn values."
      ],
      "metadata": {
        "id": "hDFZ0xcfW1nQ"
      }
    },
    {
      "cell_type": "markdown",
      "source": [
        "Customer churn is definitely bad to a firm ’s profitability. Various strategies can be implemented to eliminate customer churn. The best way to avoid customer churn is for a company to truly know its customers. This includes identifying customers who are at risk of churning and working to improve their satisfaction. Improving customer service is, of course, at the top of the priority for tackling this issue. Building customer loyalty through relevant experiences and specialized service is another strategy to reduce customer churn. Some firms survey customers who have already churned to understand their reasons for leaving in order to adopt a proactive approach to avoiding future customer churn."
      ],
      "metadata": {
        "id": "yHJfBgMaW1nQ"
      }
    },
    {
      "cell_type": "markdown",
      "source": [
        "<span style=\"color:crimson;font-family:serif; font-size:20px;\">  Please upvote if you liked the kernel! 😀\n",
        "    <p style=\"color:royalblue;font-family:serif; font-size:20px;\">KEEP KAGGLING!</p>\n",
        "</span>"
      ],
      "metadata": {
        "id": "I2nuzgcrW1nQ"
      }
    }
  ]
}